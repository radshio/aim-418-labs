{
 "cells": [
  {
   "cell_type": "markdown",
   "metadata": {},
   "source": [
    "# NDArray\n",
    "The **`NDArray`** API, defined in the `ndarray` (or simply `nd`) package, provides imperative tensor operations on CPU/GPU. An **`NDArray`** represents a multi-dimensional, fixed-size homogenous array."
   ]
  },
  {
   "cell_type": "code",
   "execution_count": 1,
   "metadata": {},
   "outputs": [],
   "source": [
    "import mxnet as mx\n",
    "from mxnet import nd\n",
    "import numpy as np"
   ]
  },
  {
   "cell_type": "code",
   "execution_count": 2,
   "metadata": {},
   "outputs": [
    {
     "data": {
      "text/plain": [
       "'1.3.0'"
      ]
     },
     "execution_count": 2,
     "metadata": {},
     "output_type": "execute_result"
    }
   ],
   "source": [
    "mx.__version__"
   ]
  },
  {
   "cell_type": "code",
   "execution_count": 5,
   "metadata": {},
   "outputs": [
    {
     "data": {
      "text/plain": [
       "(\n",
       " [[ 1.  2.  3.]\n",
       "  [ 4.  5.  6.]]\n",
       " <NDArray 2x3 @cpu(0)>, (2, 3), cpu(0))"
      ]
     },
     "execution_count": 5,
     "metadata": {},
     "output_type": "execute_result"
    }
   ],
   "source": [
    "a = [[1,2,3],[4,5,6]]\n",
    "#if running a gpu instance\n",
    "#a = nd.array(a, ctx=mx.gpu()) \n",
    "a = nd.array(a)\n",
    "(a, a.shape, a.context)"
   ]
  },
  {
   "cell_type": "code",
   "execution_count": 6,
   "metadata": {},
   "outputs": [
    {
     "ename": "MXNetError",
     "evalue": "[18:06:11] src/engine/threaded_engine.cc:320: Check failed: device_count_ > 0 (-1 vs. 0) GPU usage requires at least 1 GPU\n\nStack trace returned 10 entries:\n[bt] (0) /home/ec2-user/anaconda3/envs/mxnet_p36/lib/python3.6/site-packages/mxnet/libmxnet.so(+0x36161a) [0x7feca76e861a]\n[bt] (1) /home/ec2-user/anaconda3/envs/mxnet_p36/lib/python3.6/site-packages/mxnet/libmxnet.so(+0x361c31) [0x7feca76e8c31]\n[bt] (2) /home/ec2-user/anaconda3/envs/mxnet_p36/lib/python3.6/site-packages/mxnet/libmxnet.so(+0x2a4c44e) [0x7feca9dd344e]\n[bt] (3) /home/ec2-user/anaconda3/envs/mxnet_p36/lib/python3.6/site-packages/mxnet/libmxnet.so(+0x2c50a8c) [0x7feca9fd7a8c]\n[bt] (4) /home/ec2-user/anaconda3/envs/mxnet_p36/lib/python3.6/site-packages/mxnet/libmxnet.so(+0x2addca1) [0x7feca9e64ca1]\n[bt] (5) /home/ec2-user/anaconda3/envs/mxnet_p36/lib/python3.6/site-packages/mxnet/libmxnet.so(+0x2ae953a) [0x7feca9e7053a]\n[bt] (6) /home/ec2-user/anaconda3/envs/mxnet_p36/lib/python3.6/site-packages/mxnet/libmxnet.so(+0x2aeefa9) [0x7feca9e75fa9]\n[bt] (7) /home/ec2-user/anaconda3/envs/mxnet_p36/lib/python3.6/site-packages/mxnet/libmxnet.so(+0x2aef82b) [0x7feca9e7682b]\n[bt] (8) /home/ec2-user/anaconda3/envs/mxnet_p36/lib/python3.6/site-packages/mxnet/libmxnet.so(+0x2a07d19) [0x7feca9d8ed19]\n[bt] (9) /home/ec2-user/anaconda3/envs/mxnet_p36/lib/python3.6/site-packages/mxnet/libmxnet.so(MXImperativeInvokeEx+0x6f) [0x7feca9d8f30f]\n\n",
     "output_type": "error",
     "traceback": [
      "\u001b[0;31m---------------------------------------------------------------------------\u001b[0m",
      "\u001b[0;31mMXNetError\u001b[0m                                Traceback (most recent call last)",
      "\u001b[0;32m<ipython-input-6-b6633e3e5c16>\u001b[0m in \u001b[0;36m<module>\u001b[0;34m()\u001b[0m\n\u001b[1;32m      1\u001b[0m \u001b[0;31m#context change\u001b[0m\u001b[0;34m\u001b[0m\u001b[0;34m\u001b[0m\u001b[0m\n\u001b[0;32m----> 2\u001b[0;31m \u001b[0mb\u001b[0m \u001b[0;34m=\u001b[0m \u001b[0ma\u001b[0m\u001b[0;34m.\u001b[0m\u001b[0mas_in_context\u001b[0m\u001b[0;34m(\u001b[0m\u001b[0mmx\u001b[0m\u001b[0;34m.\u001b[0m\u001b[0mgpu\u001b[0m\u001b[0;34m(\u001b[0m\u001b[0;36m0\u001b[0m\u001b[0;34m)\u001b[0m\u001b[0;34m)\u001b[0m\u001b[0;34m\u001b[0m\u001b[0m\n\u001b[0m\u001b[1;32m      3\u001b[0m \u001b[0mb\u001b[0m\u001b[0;34m.\u001b[0m\u001b[0mcontext\u001b[0m\u001b[0;34m\u001b[0m\u001b[0m\n",
      "\u001b[0;32m~/anaconda3/envs/mxnet_p36/lib/python3.6/site-packages/mxnet/ndarray/ndarray.py\u001b[0m in \u001b[0;36mas_in_context\u001b[0;34m(self, context)\u001b[0m\n\u001b[1;32m   2118\u001b[0m         \u001b[0;32mif\u001b[0m \u001b[0mself\u001b[0m\u001b[0;34m.\u001b[0m\u001b[0mcontext\u001b[0m \u001b[0;34m==\u001b[0m \u001b[0mcontext\u001b[0m\u001b[0;34m:\u001b[0m\u001b[0;34m\u001b[0m\u001b[0m\n\u001b[1;32m   2119\u001b[0m             \u001b[0;32mreturn\u001b[0m \u001b[0mself\u001b[0m\u001b[0;34m\u001b[0m\u001b[0m\n\u001b[0;32m-> 2120\u001b[0;31m         \u001b[0;32mreturn\u001b[0m \u001b[0mself\u001b[0m\u001b[0;34m.\u001b[0m\u001b[0mcopyto\u001b[0m\u001b[0;34m(\u001b[0m\u001b[0mcontext\u001b[0m\u001b[0;34m)\u001b[0m\u001b[0;34m\u001b[0m\u001b[0m\n\u001b[0m\u001b[1;32m   2121\u001b[0m \u001b[0;34m\u001b[0m\u001b[0m\n\u001b[1;32m   2122\u001b[0m     \u001b[0;32mdef\u001b[0m \u001b[0mattach_grad\u001b[0m\u001b[0;34m(\u001b[0m\u001b[0mself\u001b[0m\u001b[0;34m,\u001b[0m \u001b[0mgrad_req\u001b[0m\u001b[0;34m=\u001b[0m\u001b[0;34m'write'\u001b[0m\u001b[0;34m,\u001b[0m \u001b[0mstype\u001b[0m\u001b[0;34m=\u001b[0m\u001b[0;32mNone\u001b[0m\u001b[0;34m)\u001b[0m\u001b[0;34m:\u001b[0m\u001b[0;34m\u001b[0m\u001b[0m\n",
      "\u001b[0;32m~/anaconda3/envs/mxnet_p36/lib/python3.6/site-packages/mxnet/ndarray/ndarray.py\u001b[0m in \u001b[0;36mcopyto\u001b[0;34m(self, other)\u001b[0m\n\u001b[1;32m   2067\u001b[0m         \u001b[0;32melif\u001b[0m \u001b[0misinstance\u001b[0m\u001b[0;34m(\u001b[0m\u001b[0mother\u001b[0m\u001b[0;34m,\u001b[0m \u001b[0mContext\u001b[0m\u001b[0;34m)\u001b[0m\u001b[0;34m:\u001b[0m\u001b[0;34m\u001b[0m\u001b[0m\n\u001b[1;32m   2068\u001b[0m             \u001b[0mhret\u001b[0m \u001b[0;34m=\u001b[0m \u001b[0mNDArray\u001b[0m\u001b[0;34m(\u001b[0m\u001b[0m_new_alloc_handle\u001b[0m\u001b[0;34m(\u001b[0m\u001b[0mself\u001b[0m\u001b[0;34m.\u001b[0m\u001b[0mshape\u001b[0m\u001b[0;34m,\u001b[0m \u001b[0mother\u001b[0m\u001b[0;34m,\u001b[0m \u001b[0;32mTrue\u001b[0m\u001b[0;34m,\u001b[0m \u001b[0mself\u001b[0m\u001b[0;34m.\u001b[0m\u001b[0mdtype\u001b[0m\u001b[0;34m)\u001b[0m\u001b[0;34m)\u001b[0m\u001b[0;34m\u001b[0m\u001b[0m\n\u001b[0;32m-> 2069\u001b[0;31m             \u001b[0;32mreturn\u001b[0m \u001b[0m_internal\u001b[0m\u001b[0;34m.\u001b[0m\u001b[0m_copyto\u001b[0m\u001b[0;34m(\u001b[0m\u001b[0mself\u001b[0m\u001b[0;34m,\u001b[0m \u001b[0mout\u001b[0m\u001b[0;34m=\u001b[0m\u001b[0mhret\u001b[0m\u001b[0;34m)\u001b[0m\u001b[0;34m\u001b[0m\u001b[0m\n\u001b[0m\u001b[1;32m   2070\u001b[0m         \u001b[0;32melse\u001b[0m\u001b[0;34m:\u001b[0m\u001b[0;34m\u001b[0m\u001b[0m\n\u001b[1;32m   2071\u001b[0m             \u001b[0;32mraise\u001b[0m \u001b[0mTypeError\u001b[0m\u001b[0;34m(\u001b[0m\u001b[0;34m'copyto does not support type '\u001b[0m \u001b[0;34m+\u001b[0m \u001b[0mstr\u001b[0m\u001b[0;34m(\u001b[0m\u001b[0mtype\u001b[0m\u001b[0;34m(\u001b[0m\u001b[0mother\u001b[0m\u001b[0;34m)\u001b[0m\u001b[0;34m)\u001b[0m\u001b[0;34m)\u001b[0m\u001b[0;34m\u001b[0m\u001b[0m\n",
      "\u001b[0;32m~/anaconda3/envs/mxnet_p36/lib/python3.6/site-packages/mxnet/ndarray/register.py\u001b[0m in \u001b[0;36m_copyto\u001b[0;34m(data, out, name, **kwargs)\u001b[0m\n",
      "\u001b[0;32m~/anaconda3/envs/mxnet_p36/lib/python3.6/site-packages/mxnet/_ctypes/ndarray.py\u001b[0m in \u001b[0;36m_imperative_invoke\u001b[0;34m(handle, ndargs, keys, vals, out)\u001b[0m\n\u001b[1;32m     90\u001b[0m         \u001b[0mc_str_array\u001b[0m\u001b[0;34m(\u001b[0m\u001b[0mkeys\u001b[0m\u001b[0;34m)\u001b[0m\u001b[0;34m,\u001b[0m\u001b[0;34m\u001b[0m\u001b[0m\n\u001b[1;32m     91\u001b[0m         \u001b[0mc_str_array\u001b[0m\u001b[0;34m(\u001b[0m\u001b[0;34m[\u001b[0m\u001b[0mstr\u001b[0m\u001b[0;34m(\u001b[0m\u001b[0ms\u001b[0m\u001b[0;34m)\u001b[0m \u001b[0;32mfor\u001b[0m \u001b[0ms\u001b[0m \u001b[0;32min\u001b[0m \u001b[0mvals\u001b[0m\u001b[0;34m]\u001b[0m\u001b[0;34m)\u001b[0m\u001b[0;34m,\u001b[0m\u001b[0;34m\u001b[0m\u001b[0m\n\u001b[0;32m---> 92\u001b[0;31m         ctypes.byref(out_stypes)))\n\u001b[0m\u001b[1;32m     93\u001b[0m \u001b[0;34m\u001b[0m\u001b[0m\n\u001b[1;32m     94\u001b[0m     \u001b[0;32mif\u001b[0m \u001b[0moriginal_output\u001b[0m \u001b[0;32mis\u001b[0m \u001b[0;32mnot\u001b[0m \u001b[0;32mNone\u001b[0m\u001b[0;34m:\u001b[0m\u001b[0;34m\u001b[0m\u001b[0m\n",
      "\u001b[0;32m~/anaconda3/envs/mxnet_p36/lib/python3.6/site-packages/mxnet/base.py\u001b[0m in \u001b[0;36mcheck_call\u001b[0;34m(ret)\u001b[0m\n\u001b[1;32m    250\u001b[0m     \"\"\"\n\u001b[1;32m    251\u001b[0m     \u001b[0;32mif\u001b[0m \u001b[0mret\u001b[0m \u001b[0;34m!=\u001b[0m \u001b[0;36m0\u001b[0m\u001b[0;34m:\u001b[0m\u001b[0;34m\u001b[0m\u001b[0m\n\u001b[0;32m--> 252\u001b[0;31m         \u001b[0;32mraise\u001b[0m \u001b[0mMXNetError\u001b[0m\u001b[0;34m(\u001b[0m\u001b[0mpy_str\u001b[0m\u001b[0;34m(\u001b[0m\u001b[0m_LIB\u001b[0m\u001b[0;34m.\u001b[0m\u001b[0mMXGetLastError\u001b[0m\u001b[0;34m(\u001b[0m\u001b[0;34m)\u001b[0m\u001b[0;34m)\u001b[0m\u001b[0;34m)\u001b[0m\u001b[0;34m\u001b[0m\u001b[0m\n\u001b[0m\u001b[1;32m    253\u001b[0m \u001b[0;34m\u001b[0m\u001b[0m\n\u001b[1;32m    254\u001b[0m \u001b[0;34m\u001b[0m\u001b[0m\n",
      "\u001b[0;31mMXNetError\u001b[0m: [18:06:11] src/engine/threaded_engine.cc:320: Check failed: device_count_ > 0 (-1 vs. 0) GPU usage requires at least 1 GPU\n\nStack trace returned 10 entries:\n[bt] (0) /home/ec2-user/anaconda3/envs/mxnet_p36/lib/python3.6/site-packages/mxnet/libmxnet.so(+0x36161a) [0x7feca76e861a]\n[bt] (1) /home/ec2-user/anaconda3/envs/mxnet_p36/lib/python3.6/site-packages/mxnet/libmxnet.so(+0x361c31) [0x7feca76e8c31]\n[bt] (2) /home/ec2-user/anaconda3/envs/mxnet_p36/lib/python3.6/site-packages/mxnet/libmxnet.so(+0x2a4c44e) [0x7feca9dd344e]\n[bt] (3) /home/ec2-user/anaconda3/envs/mxnet_p36/lib/python3.6/site-packages/mxnet/libmxnet.so(+0x2c50a8c) [0x7feca9fd7a8c]\n[bt] (4) /home/ec2-user/anaconda3/envs/mxnet_p36/lib/python3.6/site-packages/mxnet/libmxnet.so(+0x2addca1) [0x7feca9e64ca1]\n[bt] (5) /home/ec2-user/anaconda3/envs/mxnet_p36/lib/python3.6/site-packages/mxnet/libmxnet.so(+0x2ae953a) [0x7feca9e7053a]\n[bt] (6) /home/ec2-user/anaconda3/envs/mxnet_p36/lib/python3.6/site-packages/mxnet/libmxnet.so(+0x2aeefa9) [0x7feca9e75fa9]\n[bt] (7) /home/ec2-user/anaconda3/envs/mxnet_p36/lib/python3.6/site-packages/mxnet/libmxnet.so(+0x2aef82b) [0x7feca9e7682b]\n[bt] (8) /home/ec2-user/anaconda3/envs/mxnet_p36/lib/python3.6/site-packages/mxnet/libmxnet.so(+0x2a07d19) [0x7feca9d8ed19]\n[bt] (9) /home/ec2-user/anaconda3/envs/mxnet_p36/lib/python3.6/site-packages/mxnet/libmxnet.so(MXImperativeInvokeEx+0x6f) [0x7feca9d8f30f]\n\n"
     ]
    }
   ],
   "source": [
    "#context change\n",
    "b = a.as_in_context(mx.gpu(0))\n",
    "b.context"
   ]
  },
  {
   "cell_type": "code",
   "execution_count": 4,
   "metadata": {},
   "outputs": [
    {
     "data": {
      "text/plain": [
       "gpu(1)"
      ]
     },
     "execution_count": 4,
     "metadata": {},
     "output_type": "execute_result"
    }
   ],
   "source": [
    "#context change\n",
    "c = b.as_in_context(mx.gpu(1))\n",
    "c.context"
   ]
  },
  {
   "cell_type": "code",
   "execution_count": 5,
   "metadata": {},
   "outputs": [
    {
     "data": {
      "text/plain": [
       "\n",
       "[[  1.   4.   9.]\n",
       " [ 16.  25.  36.]]\n",
       "<NDArray 2x3 @gpu(0)>"
      ]
     },
     "execution_count": 5,
     "metadata": {},
     "output_type": "execute_result"
    }
   ],
   "source": [
    "#b * c\n",
    "b * c.as_in_context(b.context)"
   ]
  },
  {
   "cell_type": "markdown",
   "metadata": {},
   "source": [
    "## Pairwise operators\n",
    "$$\n",
    "\\begin{bmatrix}\n",
    "    x_{1,1} & \\dots  & x_{1,m}\\\\\n",
    "    x_{2,1} & \\dots  & x_{2,m}\\\\\n",
    "    \\vdots  & \\vdots & \\vdots\\\\\n",
    "    x_{n,1} & ... & x_{n,m}\\\\\n",
    "\\end{bmatrix}_{n \\times m}\n",
    "*\n",
    "\\begin{bmatrix}\n",
    "    y_{1,1} & \\dots  & y_{1,m}\\\\\n",
    "    y_{2,1} & \\dots  & y_{2,m}\\\\\n",
    "    \\vdots  & \\vdots & \\vdots\\\\\n",
    "    y_{n,1} & ... & y_{n,m}\\\\\n",
    "\\end{bmatrix}_{n \\times m}\n",
    "=\n",
    "\\begin{bmatrix}\n",
    "    x_{i,1}y_{i,1} & \\dots  & x_{1,m}y_{i,m}\\\\\n",
    "    x_{2,1}y_{2,1} & \\dots  & x_{2,m}y_{2,m}\\\\\n",
    "    \\vdots  & \\vdots & \\vdots\\\\\n",
    "    x_{n,1}y_{n,1} & ... & x_{n,m}y_{n,m}\\\\\n",
    "\\end{bmatrix}_{n \\times m}\n",
    "$$\n"
   ]
  },
  {
   "cell_type": "code",
   "execution_count": 6,
   "metadata": {
    "scrolled": true
   },
   "outputs": [
    {
     "name": "stdout",
     "output_type": "stream",
     "text": [
      "a+b= \n",
      "[[  2.   4.   6.]\n",
      " [  8.  10.  12.]]\n",
      "<NDArray 2x3 @cpu(0)>;\n",
      "a*b= \n",
      "[[  1.   4.   9.]\n",
      " [ 16.  25.  36.]]\n",
      "<NDArray 2x3 @cpu(0)>;\n",
      "a-b= \n",
      "[[ 0.  0.  0.]\n",
      " [ 0.  0.  0.]]\n",
      "<NDArray 2x3 @cpu(0)>;\n",
      "a/b=\n",
      "[[ 1.  1.  1.]\n",
      " [ 1.  1.  1.]]\n",
      "<NDArray 2x3 @cpu(0)>;\n"
     ]
    }
   ],
   "source": [
    "a = nd.array(a)\n",
    "b = nd.array(a)\n",
    "print(\"a+b= {};\\na*b= {};\\na-b= {};\\na/b={};\".format(a+b, a*b, a-b, a/b))"
   ]
  },
  {
   "cell_type": "code",
   "execution_count": 7,
   "metadata": {},
   "outputs": [
    {
     "data": {
      "text/plain": [
       "\n",
       "[[  1.   4.   9.]\n",
       " [ 16.  25.  36.]]\n",
       "<NDArray 2x3 @cpu(0)>"
      ]
     },
     "execution_count": 7,
     "metadata": {},
     "output_type": "execute_result"
    }
   ],
   "source": [
    "#b * c\n",
    "b * c.as_in_context(b.context)"
   ]
  },
  {
   "cell_type": "markdown",
   "metadata": {},
   "source": [
    "# Dot Product\n",
    "$$\n",
    "X=\\begin{bmatrix}\n",
    "    x_{1,0} & \\dots  & x_{1,m}\\\\\n",
    "    x_{2,0} & \\dots  & x_{2,m}\\\\\n",
    "    \\vdots  & \\vdots & \\vdots\\\\\n",
    "    x_{n,0} & ... & x_{n,m}\\\\\n",
    "\\end{bmatrix}_{n \\times m}\n",
    ".\n",
    "\\begin{bmatrix}\n",
    "    y_{1,1} & \\dots  & y_{1,k}\\\\\n",
    "    y_{2,1} & \\dots  & y_{2,k}\\\\\n",
    "    \\vdots  & \\vdots & \\vdots\\\\\n",
    "    y_{m,1} & ... & y_{m,k}\\\\\n",
    "\\end{bmatrix}_{m \\times k}\n",
    "=\n",
    "Z_{m \\times k}; \\ where\\ z_{i,j} = x_{i1}y_{1j} + \\dots + x_{im}y_{1m} = \\sum_{k=1}^m{x_{ik}y_{kj}}\n",
    "$$\n",
    "<img src=\"img/Inner-product-angle.svg\" width=\"200\" height=\"200\" align=\"center\"/>\n",
    "[source](https://en.wikipedia.org/wiki/Dot_product#/media/File:Inner-product-angle.svg)\n",
    "$$\n",
    "X.Y = |X|.|Y|.cos(\\theta)\n",
    "$$"
   ]
  },
  {
   "cell_type": "code",
   "execution_count": 8,
   "metadata": {},
   "outputs": [
    {
     "data": {
      "text/plain": [
       "((2, 3), (2, 3))"
      ]
     },
     "execution_count": 8,
     "metadata": {},
     "output_type": "execute_result"
    }
   ],
   "source": [
    "(a.shape, a.shape)"
   ]
  },
  {
   "cell_type": "code",
   "execution_count": 9,
   "metadata": {},
   "outputs": [
    {
     "data": {
      "text/plain": [
       "(3, 2)"
      ]
     },
     "execution_count": 9,
     "metadata": {},
     "output_type": "execute_result"
    }
   ],
   "source": [
    "a.T.shape"
   ]
  },
  {
   "cell_type": "code",
   "execution_count": 10,
   "metadata": {},
   "outputs": [
    {
     "data": {
      "text/plain": [
       "(\n",
       " [[ 14.  32.]\n",
       "  [ 32.  77.]]\n",
       " <NDArray 2x2 @cpu(0)>, (2, 2))"
      ]
     },
     "execution_count": 10,
     "metadata": {},
     "output_type": "execute_result"
    }
   ],
   "source": [
    "b = nd.dot(a,a.T) \n",
    "(b, b.shape)"
   ]
  },
  {
   "cell_type": "code",
   "execution_count": 11,
   "metadata": {},
   "outputs": [
    {
     "name": "stdout",
     "output_type": "stream",
     "text": [
      "\n",
      "[[  1.   2.]\n",
      " [  3.   4.]\n",
      " [  5.   6.]\n",
      " [  7.   8.]\n",
      " [  9.  10.]\n",
      " [ 11.  12.]]\n",
      "<NDArray 6x2 @cpu(0)>\n",
      "\n",
      "[[[  1.   2.   3.]\n",
      "  [  4.   5.   6.]]\n",
      "\n",
      " [[  7.   8.   9.]\n",
      "  [ 10.  11.  12.]]]\n",
      "<NDArray 2x2x3 @cpu(0)>\n"
     ]
    },
    {
     "data": {
      "text/plain": [
       "\n",
       "[[[  1.   4.]\n",
       "  [  7.  10.]]\n",
       "\n",
       " [[  2.   5.]\n",
       "  [  8.  11.]]\n",
       "\n",
       " [[  3.   6.]\n",
       "  [  9.  12.]]]\n",
       "<NDArray 3x2x2 @cpu(0)>"
      ]
     },
     "execution_count": 11,
     "metadata": {},
     "output_type": "execute_result"
    }
   ],
   "source": [
    "a = [[1,2],[3,4],[5,6], [7,8],[9,10],[11,12]]\n",
    "a = nd.array(a)\n",
    "print(a)\n",
    "a = a.reshape((2,2,3))\n",
    "print(a)\n",
    "a.transpose((2,0,1))"
   ]
  },
  {
   "cell_type": "code",
   "execution_count": 12,
   "metadata": {},
   "outputs": [
    {
     "data": {
      "text/plain": [
       "\n",
       "[[ 1.  1.  1.  1.  1.]\n",
       " [ 1.  1.  1.  1.  1.]\n",
       " [ 1.  1.  1.  1.  1.]\n",
       " [ 1.  1.  1.  1.  1.]]\n",
       "<NDArray 4x5 @cpu(0)>"
      ]
     },
     "execution_count": 12,
     "metadata": {},
     "output_type": "execute_result"
    }
   ],
   "source": [
    "nd.ones(shape=(4,5))"
   ]
  },
  {
   "cell_type": "code",
   "execution_count": 13,
   "metadata": {},
   "outputs": [
    {
     "data": {
      "text/plain": [
       "\n",
       "[[ 0.  0.  0.  0.  0.]\n",
       " [ 0.  0.  0.  0.  0.]\n",
       " [ 0.  0.  0.  0.  0.]\n",
       " [ 0.  0.  0.  0.  0.]]\n",
       "<NDArray 4x5 @cpu(0)>"
      ]
     },
     "execution_count": 13,
     "metadata": {},
     "output_type": "execute_result"
    }
   ],
   "source": [
    "nd.zeros((4,5))"
   ]
  },
  {
   "cell_type": "code",
   "execution_count": 30,
   "metadata": {},
   "outputs": [
    {
     "data": {
      "text/plain": [
       "\n",
       "[[  7.61589885e-01   9.91063134e-05  -5.14313877e-01   1.71984720e+00\n",
       "   -1.14942983e-01]\n",
       " [  1.56177032e+00   1.11169040e+00   1.49358046e+00   5.36799669e-01\n",
       "   -1.32518756e+00]\n",
       " [ -6.47440076e-01  -5.52033365e-01   1.00643530e-01  -3.31823856e-01\n",
       "    4.94534224e-01]\n",
       " [  7.19802499e-01  -3.29525560e-01  -5.17583132e-01   7.23132491e-01\n",
       "    1.44181061e+00]]\n",
       "<NDArray 4x5 @cpu(0)>"
      ]
     },
     "execution_count": 30,
     "metadata": {},
     "output_type": "execute_result"
    }
   ],
   "source": [
    "data = nd.random.normal(loc=0, scale=1, shape=(4,5), )\n",
    "data"
   ]
  },
  {
   "cell_type": "code",
   "execution_count": 31,
   "metadata": {},
   "outputs": [
    {
     "data": {
      "text/plain": [
       "\n",
       "[ 3.  0.  4.  4.]\n",
       "<NDArray 4 @cpu(0)>"
      ]
     },
     "execution_count": 31,
     "metadata": {},
     "output_type": "execute_result"
    }
   ],
   "source": [
    "data.argmax(axis=1)"
   ]
  },
  {
   "cell_type": "markdown",
   "metadata": {},
   "source": [
    "# NDArray to numpu"
   ]
  },
  {
   "cell_type": "code",
   "execution_count": 32,
   "metadata": {},
   "outputs": [
    {
     "data": {
      "text/plain": [
       "numpy.ndarray"
      ]
     },
     "execution_count": 32,
     "metadata": {},
     "output_type": "execute_result"
    }
   ],
   "source": [
    "datanp = data.reshape((1,20)).asnumpy()\n",
    "type(datanp)\n"
   ]
  },
  {
   "cell_type": "code",
   "execution_count": 33,
   "metadata": {},
   "outputs": [],
   "source": [
    "import matplotlib.pyplot as plt\n",
    "def f(x):\n",
    "    return 2 * x*x"
   ]
  },
  {
   "cell_type": "code",
   "execution_count": 43,
   "metadata": {},
   "outputs": [
    {
     "data": {
      "image/png": "[encoded data removed]",
      "text/plain": [
       "<Figure size 432x288 with 1 Axes>"
      ]
     },
     "metadata": {},
     "output_type": "display_data"
    }
   ],
   "source": [
    "\n",
    "plt.scatter(datanp, f(datanp))\n",
    "plt.show()"
   ]
  },
  {
   "cell_type": "markdown",
   "metadata": {},
   "source": [
    "# Challenge\n",
    "- Create an `NDArray` of dimension $1 \\times 1000$ and initialzie it with random uniform distribution.\n",
    "- Create function $f(x) = 3x*2 + 5$\n",
    "- Plot $(x,f(x))$"
   ]
  },
  {
   "cell_type": "code",
   "execution_count": 17,
   "metadata": {},
   "outputs": [
    {
     "data": {
      "text/plain": [
       "array([[  9.52791631e-01,   4.56129760e-01,   6.87488258e-01,\n",
       "          4.83408630e-01,   2.15507671e-01,   7.88739443e-01,\n",
       "          9.47370589e-01,   2.29441822e-01,   7.30855823e-01,\n",
       "          8.80297601e-01,   2.53941655e-01,   3.13692391e-01,\n",
       "          2.13311970e-01,   9.57450867e-01,   5.18200696e-01,\n",
       "          4.71751571e-01,   2.56627128e-02,   7.11583793e-01,\n",
       "          2.07470074e-01,   1.53694302e-01,   4.24685478e-01,\n",
       "          7.30442166e-01,   3.74169976e-01,   6.46264434e-01,\n",
       "          4.63575423e-01,   2.14880735e-01,   2.77628720e-01,\n",
       "          1.86458215e-01,   5.86784363e-01,   8.07580292e-01,\n",
       "          8.63855600e-01,   7.47079492e-01,   1.17531858e-01,\n",
       "          6.74847364e-01,   5.17379105e-01,   2.76893765e-01,\n",
       "          1.32068112e-01,   1.74908876e-01,   7.16859698e-01,\n",
       "          7.04474270e-01,   3.96059692e-01,   4.63150203e-01,\n",
       "          5.65421283e-01,   8.40428531e-01,   1.83279842e-01,\n",
       "          2.04865769e-01,   1.44847766e-01,   1.64958864e-01,\n",
       "          4.88056272e-01,   1.24833062e-01,   3.55612725e-01,\n",
       "          7.22080648e-01,   9.40431952e-01,   3.04529667e-02,\n",
       "          7.65325248e-01,   7.46994257e-01,   7.48663604e-01,\n",
       "          9.25961584e-02,   9.03719723e-01,   2.17450500e-01,\n",
       "          8.34224373e-02,   7.49254405e-01,   5.52192450e-01,\n",
       "          5.46346843e-01,   3.46288502e-01,   7.98603594e-01,\n",
       "          5.77067614e-01,   2.85718858e-01,   1.26526162e-01,\n",
       "          4.90253508e-01,   9.50043321e-01,   5.99110305e-01,\n",
       "          3.13610822e-01,   1.55332740e-02,   9.52831149e-01,\n",
       "          5.93481421e-01,   2.18393236e-01,   4.33676362e-01,\n",
       "          2.48700202e-01,   8.07360530e-01,   8.63801777e-01,\n",
       "          3.15244794e-01,   2.35268325e-01,   8.92888725e-01,\n",
       "          8.15100074e-01,   5.77857196e-01,   5.43897212e-01,\n",
       "          1.84010208e-01,   1.91260263e-01,   7.87929237e-01,\n",
       "          5.88839948e-01,   6.12031162e-01,   4.81367968e-02,\n",
       "          5.39092757e-02,   1.58729795e-02,   4.20193672e-01,\n",
       "          4.97110151e-02,   6.79068863e-01,   3.99415284e-01,\n",
       "          9.18601751e-01,   5.76903939e-01,   4.02023084e-04,\n",
       "          8.67517471e-01,   9.76759136e-01,   7.86162257e-01,\n",
       "          3.76580328e-01,   2.54702747e-01,   9.73783553e-01,\n",
       "          8.22549090e-02,   6.04716122e-01,   1.57756001e-01,\n",
       "          8.28845799e-01,   2.09492877e-01,   5.74711502e-01,\n",
       "          4.17382807e-01,   6.28076196e-01,   3.47690016e-01,\n",
       "          2.85576284e-01,   6.99884057e-01,   5.86833358e-01,\n",
       "          6.97509468e-01,   7.50021756e-01,   7.47238919e-02,\n",
       "          8.58313859e-01,   3.64697017e-02,   7.55082190e-01,\n",
       "          8.80622089e-01,   9.47423339e-01,   7.19687521e-01,\n",
       "          1.83284789e-01,   7.13007271e-01,   9.87304866e-01,\n",
       "          7.69859672e-01,   4.04197872e-02,   3.30747038e-01,\n",
       "          3.95214051e-01,   2.28610247e-01,   5.98546386e-01,\n",
       "          6.26343966e-01,   1.50486469e-01,   4.14479256e-01,\n",
       "          1.74442828e-01,   9.36781049e-01,   1.48676321e-01,\n",
       "          6.42452419e-01,   1.32370340e-02,   3.86900336e-01,\n",
       "          1.54073536e-03,   8.55119646e-01,   4.12691161e-02,\n",
       "          3.80792588e-01,   4.25639242e-01,   1.78309828e-01,\n",
       "          9.64396894e-01,   7.81659424e-01,   1.82686329e-01,\n",
       "          4.72208589e-01,   7.45038271e-01,   2.59480417e-01,\n",
       "          3.39663267e-01,   6.92399263e-01,   6.51092172e-01,\n",
       "          9.80485082e-01,   6.41116560e-01,   2.46253595e-01,\n",
       "          2.23102614e-01,   7.90243804e-01,   7.50253260e-01,\n",
       "          7.62335241e-01,   4.54078317e-01,   1.20039791e-01,\n",
       "          1.75644681e-01,   8.38902593e-01,   2.55014241e-01,\n",
       "          4.61738914e-01,   7.25630105e-01,   1.25781387e-01,\n",
       "          3.90974253e-01,   5.36343455e-01,   3.86583447e-01,\n",
       "          2.96512753e-01,   7.34685302e-01,   1.75724193e-01,\n",
       "          9.73551333e-01,   7.92381763e-02,   2.42337510e-01,\n",
       "          1.98899090e-01,   2.06618756e-01,   4.29588616e-01,\n",
       "          7.98718274e-01,   5.91526031e-01,   1.53089300e-01,\n",
       "          1.24621749e-01,   2.23322973e-01,   3.09291966e-02,\n",
       "          2.42978185e-01,   2.32098386e-01,   4.79507297e-01,\n",
       "          1.27554908e-02,   7.45520229e-04,   2.74637461e-01,\n",
       "          3.03113572e-02,   9.41914380e-01,   4.61548150e-01,\n",
       "          2.76767910e-01,   1.62520692e-01,   7.57882074e-02,\n",
       "          6.79501832e-01,   2.74352163e-01,   7.95204580e-01,\n",
       "          9.86026347e-01,   5.78163385e-01,   4.22624409e-01,\n",
       "          6.94764972e-01,   7.30159521e-01,   3.90958011e-01,\n",
       "          6.15189433e-01,   4.62962054e-02,   1.80740327e-01,\n",
       "          4.39421535e-01,   7.43829429e-01,   3.71980309e-01,\n",
       "          3.65481675e-01,   5.97003222e-01,   7.76762009e-01,\n",
       "          1.34218171e-01,   7.93322682e-01,   2.27712899e-01,\n",
       "          6.34303451e-01,   8.14782441e-01,   7.60641158e-01,\n",
       "          2.64325529e-01,   6.38052881e-01,   4.10320193e-01,\n",
       "          6.55133903e-01,   9.35972154e-01,   4.78815520e-04,\n",
       "          2.75552452e-01,   5.31463146e-01,   1.45289958e-01,\n",
       "          1.78538829e-01,   7.02020109e-01,   7.69133687e-01,\n",
       "          5.67066550e-01,   2.50252821e-02,   6.11593843e-01,\n",
       "          6.58698827e-02,   4.20308523e-02,   3.26263994e-01,\n",
       "          4.17266905e-01,   5.83930075e-01,   4.26644087e-03,\n",
       "          6.59894228e-01,   3.89050335e-01,   1.79849640e-01,\n",
       "          1.11874320e-01,   4.37023461e-01,   5.50275207e-01,\n",
       "          8.66124213e-01,   7.92000592e-01,   5.77232063e-01,\n",
       "          9.98018503e-01,   2.79453605e-01,   8.35874557e-01,\n",
       "          1.22789249e-01,   5.29072404e-01,   2.31855199e-01,\n",
       "          4.13041055e-01,   1.24992572e-01,   6.25669062e-02,\n",
       "          2.33780429e-01,   1.96024388e-01,   3.83579999e-01,\n",
       "          4.53829229e-01,   4.28985283e-02,   3.49731088e-01,\n",
       "          8.38710725e-01,   1.83519989e-01,   4.03810263e-01,\n",
       "          8.69425893e-01,   5.67368984e-01,   3.52407902e-01,\n",
       "          6.36134028e-01,   1.65161774e-01,   1.32842004e-01,\n",
       "          2.90839851e-01,   8.27076137e-02,   7.45827556e-01,\n",
       "          1.56532213e-01,   9.51668620e-01,   9.86224711e-01,\n",
       "          6.62788272e-01,   1.04515240e-01,   3.20364654e-01,\n",
       "          4.22655910e-01,   5.04859865e-01,   8.75062346e-01,\n",
       "          9.06745642e-02,   5.84275663e-01,   6.32290542e-01,\n",
       "          1.75336674e-02,   5.35020173e-01,   8.88702571e-01,\n",
       "          2.94443071e-01,   3.84147674e-01,   5.73283613e-01,\n",
       "          1.67730212e-01,   4.01699096e-01,   3.37179840e-01,\n",
       "          7.98094034e-01,   5.94148159e-01,   3.55621666e-01,\n",
       "          3.77451815e-02,   3.07404876e-01,   6.43308520e-01,\n",
       "          7.60531545e-01,   4.27075207e-01,   1.42875791e-01,\n",
       "          9.77550983e-01,   8.11944187e-01,   6.53634310e-01,\n",
       "          1.92279294e-01,   2.20424250e-01,   1.54745117e-01,\n",
       "          2.17494890e-02,   4.07078952e-01,   6.60922468e-01,\n",
       "          3.82899540e-04,   2.12065965e-01,   8.45517814e-01,\n",
       "          2.69028246e-01,   1.61132455e-01,   7.94889748e-01,\n",
       "          7.39250720e-01,   5.96232153e-02,   5.82910836e-01,\n",
       "          3.39866817e-01,   7.70259976e-01,   5.68102777e-01,\n",
       "          5.99993169e-01,   6.55057371e-01,   9.61467505e-01,\n",
       "          4.96145368e-01,   3.79778385e-01,   5.71212351e-01,\n",
       "          4.97010350e-01,   9.79558527e-01,   3.38338643e-01,\n",
       "          7.59727240e-01,   7.42750764e-01,   9.96798337e-01,\n",
       "          3.00495863e-01,   9.14374888e-01,   7.98786283e-01,\n",
       "          9.29922402e-01,   8.59497786e-02,   1.03748240e-01,\n",
       "          2.35663638e-01,   1.96347050e-02,   4.38168883e-01,\n",
       "          2.45874837e-01,   1.26045853e-01,   3.07604428e-02,\n",
       "          2.03031987e-01,   1.72680423e-01,   8.41542721e-01,\n",
       "          8.27760518e-01,   3.72432441e-01,   9.32353079e-01,\n",
       "          2.18681723e-01,   8.82917345e-01,   8.46132815e-01,\n",
       "          1.55691160e-02,   5.75374663e-01,   2.93000400e-01,\n",
       "          6.33716464e-01,   7.78117418e-01,   8.88928533e-01,\n",
       "          4.19197738e-01,   1.31597221e-01,   1.89959124e-01,\n",
       "          8.28828931e-01,   8.43410611e-01,   5.53526759e-01,\n",
       "          1.07246324e-01,   2.24482179e-01,   2.88018584e-01,\n",
       "          5.61518252e-01,   2.16968790e-01,   8.26349795e-01,\n",
       "          4.64267224e-01,   9.02984202e-01,   3.19590390e-01,\n",
       "          6.27829731e-01,   9.09094155e-01,   7.94287801e-01,\n",
       "          7.85627365e-01,   6.98159337e-01,   7.05750704e-01,\n",
       "          4.15643275e-01,   1.39903456e-01,   2.44095773e-01,\n",
       "          6.11821353e-01,   5.47379911e-01,   8.51495028e-01,\n",
       "          9.24859226e-01,   9.23768461e-01,   5.89603782e-01,\n",
       "          6.62210584e-01,   4.56946701e-01,   2.58979470e-01,\n",
       "          5.67891955e-01,   2.76799679e-01,   4.30272728e-01,\n",
       "          6.35478020e-01,   2.61343241e-01,   7.24406123e-01,\n",
       "          8.01939517e-02,   3.05587262e-01,   9.33906972e-01,\n",
       "          6.77962601e-01,   2.29547724e-01,   5.06493449e-01,\n",
       "          1.34747578e-02,   8.29385757e-01,   4.21012878e-01,\n",
       "          6.83298051e-01,   6.58638030e-02,   9.10101235e-01,\n",
       "          5.22571206e-01,   1.19939618e-01,   3.86249423e-01,\n",
       "          8.39733124e-01,   2.34274581e-01,   9.48269844e-01,\n",
       "          5.63632190e-01,   5.73620915e-01,   2.14579403e-01,\n",
       "          4.14502947e-03,   1.57109022e-01,   3.35122831e-02,\n",
       "          2.46393651e-01,   1.29669636e-01,   5.96049130e-01,\n",
       "          6.79596782e-01,   9.19048488e-02,   4.49597418e-01,\n",
       "          8.95609975e-01,   3.89663100e-01,   4.62275952e-01,\n",
       "          6.61845744e-01,   4.44812357e-01,   1.04835359e-02,\n",
       "          1.04711302e-01,   2.61519074e-01,   6.84904039e-01,\n",
       "          7.52236307e-01,   8.16893995e-01,   9.37488258e-01,\n",
       "          6.29550159e-01,   6.75684631e-01,   2.42022604e-01,\n",
       "          4.98471767e-01,   7.85420716e-01,   7.75327682e-01,\n",
       "          1.45679429e-01,   5.65051854e-01,   8.27276349e-01,\n",
       "          3.03822100e-01,   5.80705345e-01,   4.80925292e-01,\n",
       "          2.89372802e-01,   3.15029800e-01,   5.13243377e-01,\n",
       "          3.80222090e-02,   6.28851414e-01,   5.68949163e-01,\n",
       "          2.58589506e-01,   9.85764146e-01,   8.46906543e-01,\n",
       "          3.73232365e-01,   4.21253711e-01,   6.79768562e-01,\n",
       "          8.92337441e-01,   1.22094363e-01,   8.35468590e-01,\n",
       "          9.26511884e-02,   9.93475169e-02,   6.32953465e-01,\n",
       "          6.46254122e-01,   2.80880243e-01,   3.10494572e-01,\n",
       "          2.71403491e-01,   7.54053175e-01,   8.90218198e-01,\n",
       "          5.42631686e-01,   2.03508809e-01,   4.57598865e-01,\n",
       "          2.91110247e-01,   8.95366788e-01,   5.47230005e-01,\n",
       "          5.72535619e-02,   7.16290653e-01,   5.57317615e-01,\n",
       "          9.14971590e-01,   5.94652951e-01,   9.03051436e-01,\n",
       "          4.50968772e-01,   8.61701012e-01,   1.79392770e-01,\n",
       "          6.47636414e-01,   6.29552901e-01,   9.60042596e-01,\n",
       "          9.84786808e-01,   2.50016779e-01,   6.42813385e-01,\n",
       "          6.97373986e-01,   4.20240700e-01,   1.23631805e-01,\n",
       "          7.31300652e-01,   6.62767529e-01,   3.42139304e-01,\n",
       "          7.09640801e-01,   7.26774216e-01,   6.71984375e-01,\n",
       "          2.73375601e-01,   4.98150378e-01,   4.72372817e-03,\n",
       "          4.11401033e-01,   7.61807859e-01,   8.66679192e-01,\n",
       "          4.01685238e-01,   4.69748706e-01,   5.96807480e-01,\n",
       "          3.17821771e-01,   2.85409361e-01,   4.71371487e-02,\n",
       "          8.63088727e-01,   6.59123182e-01,   1.28209367e-01,\n",
       "          7.55567849e-01,   1.82774980e-02,   5.03873050e-01,\n",
       "          9.22588825e-01,   7.29466915e-01,   4.07453477e-01,\n",
       "          6.39688730e-01,   8.18339109e-01,   5.02183735e-01,\n",
       "          9.69878793e-01,   1.88292414e-01,   8.82538497e-01,\n",
       "          3.57211649e-01,   5.39952874e-01,   7.29722381e-01,\n",
       "          8.90076458e-01,   7.50564277e-01,   7.12471664e-01,\n",
       "          5.31272925e-02,   2.72557944e-01,   4.28135842e-01,\n",
       "          6.61547005e-01,   6.09070420e-01,   5.32455623e-01,\n",
       "          7.32280850e-01,   9.80143428e-01,   3.99167597e-01,\n",
       "          8.16285908e-01,   9.92946997e-02,   8.43489945e-01,\n",
       "          8.31276536e-01,   1.14775062e-01,   4.28818136e-01,\n",
       "          7.20981717e-01,   9.32108402e-01,   9.23315465e-01,\n",
       "          2.19225451e-01,   3.86030942e-01,   6.51256442e-01,\n",
       "          7.77112782e-01,   1.90304920e-01,   9.23885703e-01,\n",
       "          2.04500973e-01,   4.95140627e-03,   9.72611964e-01,\n",
       "          2.72583812e-01,   1.69419602e-01,   3.65191177e-02,\n",
       "          6.81544602e-01,   1.99191749e-01,   7.75921404e-01,\n",
       "          1.12078451e-02,   6.70395792e-01,   4.88995388e-02,\n",
       "          2.65078783e-01,   6.49342597e-01,   3.40672642e-01,\n",
       "          2.88723528e-01,   8.26863289e-01,   8.44410241e-01,\n",
       "          5.46887033e-02,   3.33296865e-01,   4.09045607e-01,\n",
       "          9.21306968e-01,   6.46060884e-01,   1.31386697e-01,\n",
       "          9.66196537e-01,   5.49004972e-01,   1.85876012e-01,\n",
       "          2.94434488e-01,   8.19072247e-01,   8.06153178e-01,\n",
       "          1.70774713e-01,   3.37676615e-01,   5.71702838e-01,\n",
       "          1.21029407e-01,   1.77146703e-01,   4.55597550e-01,\n",
       "          2.15346724e-01,   2.49881670e-01,   5.39347708e-01,\n",
       "          7.45233119e-01,   1.22871891e-01,   7.35920072e-01,\n",
       "          6.96304739e-01,   1.02048572e-02,   6.76269650e-01,\n",
       "          2.99196970e-03,   3.55638057e-01,   9.18006420e-01,\n",
       "          2.57475436e-01,   3.45195800e-01,   9.13581729e-01,\n",
       "          3.53721827e-01,   4.57849503e-01,   2.63114184e-01,\n",
       "          1.30211785e-01,   5.42765558e-01,   8.09891641e-01,\n",
       "          2.56148189e-01,   4.03469831e-01,   3.05837423e-01,\n",
       "          2.44326498e-02,   9.86708924e-02,   8.56831014e-01,\n",
       "          8.21368098e-01,   2.74294823e-01,   4.10417676e-01,\n",
       "          7.09105968e-01,   4.08992201e-01,   3.55772346e-01,\n",
       "          5.39029181e-01,   7.94309080e-01,   6.08168960e-01,\n",
       "          8.44618857e-01,   5.68675101e-01,   5.38147509e-01,\n",
       "          7.93662891e-02,   5.59086502e-01,   9.87080097e-01,\n",
       "          1.22509986e-01,   3.65852684e-01,   3.77641916e-01,\n",
       "          3.08574051e-01,   4.28747326e-01,   4.01768327e-01,\n",
       "          5.11208653e-01,   3.83908078e-02,   8.91762555e-01,\n",
       "          5.22099920e-02,   3.00210625e-01,   2.09638894e-01,\n",
       "          3.96441877e-01,   2.67116815e-01,   7.93273211e-01,\n",
       "          2.01809295e-02,   4.12276089e-01,   4.11125690e-01,\n",
       "          1.84867546e-01,   5.40706694e-01,   8.40247333e-01,\n",
       "          7.23481655e-01,   5.69271386e-01,   8.83286834e-01,\n",
       "          6.00502081e-02,   1.54964000e-01,   9.88916993e-01,\n",
       "          4.57248747e-01,   2.28782326e-01,   9.68906760e-01,\n",
       "          6.14701688e-01,   3.13906491e-01,   3.68026674e-01,\n",
       "          4.15809542e-01,   8.70484471e-01,   4.47604775e-01,\n",
       "          2.28116602e-01,   2.38398071e-02,   3.30034345e-01,\n",
       "          2.73992389e-01,   3.17721903e-01,   9.50411260e-01,\n",
       "          7.32087076e-01,   8.83006752e-01,   2.48613119e-01,\n",
       "          9.40708995e-01,   6.65122569e-01,   7.58890092e-01,\n",
       "          5.09928405e-01,   4.33992058e-01,   6.10503495e-01,\n",
       "          9.37504172e-01,   6.17005587e-01,   3.00661087e-01,\n",
       "          2.90377587e-01,   5.93215883e-01,   8.87619078e-01,\n",
       "          5.87434232e-01,   8.67505372e-01,   4.40753996e-01,\n",
       "          2.87881762e-01,   2.50368208e-01,   8.77548337e-01,\n",
       "          3.30482095e-01,   7.96669483e-01,   6.42919242e-01,\n",
       "          9.53333497e-01,   2.84021586e-01,   1.07511342e-01,\n",
       "          3.46195728e-01,   1.70442477e-01,   3.54102641e-01,\n",
       "          7.97014594e-01,   3.24805856e-01,   9.64969575e-01,\n",
       "          8.28530192e-01,   4.31810319e-01,   5.45785308e-01,\n",
       "          6.48330450e-01,   1.83698982e-02,   4.93977368e-01,\n",
       "          7.41578639e-01,   9.26148713e-01,   5.02169788e-01,\n",
       "          3.49301040e-01,   7.78893232e-01,   9.00140047e-01,\n",
       "          4.94563639e-01,   5.06493270e-01,   3.10837746e-01,\n",
       "          9.82423007e-01,   8.39288414e-01,   6.07715845e-01,\n",
       "          1.73345029e-01,   1.03500679e-01,   2.78276563e-01,\n",
       "          7.88308799e-01,   7.47090638e-01,   7.75848925e-01,\n",
       "          7.96255767e-01,   4.17259559e-02,   2.91107506e-01,\n",
       "          6.45485342e-01,   7.57473707e-01,   1.28193095e-01,\n",
       "          9.63638008e-01,   5.47652483e-01,   6.78429842e-01,\n",
       "          2.91523457e-01,   6.68890357e-01,   8.25845122e-01,\n",
       "          1.75897986e-01,   9.73523781e-02,   1.77813202e-01,\n",
       "          8.97511899e-01,   5.95482647e-01,   3.41989160e-01,\n",
       "          1.74737886e-01,   1.32085308e-01,   5.44858277e-01,\n",
       "          4.57582951e-01,   7.07770348e-01,   8.44378099e-02,\n",
       "          7.55615592e-01,   7.40226567e-01,   5.50449729e-01,\n",
       "          3.63737822e-01,   6.24481857e-01,   3.33561152e-01,\n",
       "          3.41702133e-01,   1.06424659e-01,   5.44355869e-01,\n",
       "          1.86145619e-01,   2.03751057e-01,   5.19248784e-01,\n",
       "          8.42232764e-01,   1.12622283e-01,   4.15412158e-01,\n",
       "          4.83925581e-01,   1.38940230e-01,   9.31488395e-01,\n",
       "          6.19933009e-01,   3.98855180e-01,   9.97159302e-01,\n",
       "          1.80391982e-01,   3.13503951e-01,   8.05492043e-01,\n",
       "          5.69283545e-01,   6.60735488e-01,   5.17472506e-01,\n",
       "          6.13435090e-01,   3.48833978e-01,   1.23882160e-01,\n",
       "          3.73808622e-01,   3.51541549e-01,   7.04961777e-01,\n",
       "          4.73099798e-01,   4.89308149e-01,   3.78385305e-01,\n",
       "          8.28160584e-01,   7.37277746e-01,   2.97753751e-01,\n",
       "          5.25543332e-01,   2.90940944e-02,   5.25050282e-01,\n",
       "          6.43180311e-01,   7.70616755e-02,   8.69188905e-01,\n",
       "          4.74369615e-01,   8.50537479e-01,   9.55539763e-01,\n",
       "          1.47867380e-02,   1.77841261e-02,   1.51480913e-01,\n",
       "          1.15912683e-01,   1.82351947e-01,   5.39562166e-01,\n",
       "          2.81921715e-01,   3.19929495e-02,   3.17435205e-01,\n",
       "          1.31676525e-01,   8.16579387e-02,   6.92874074e-01,\n",
       "          3.66168529e-01,   5.45434177e-01,   9.03973699e-01,\n",
       "          7.75026798e-01,   1.22721575e-01,   1.39555097e-01,\n",
       "          7.82376766e-01,   7.60210633e-01,   5.68528585e-02,\n",
       "          1.08762480e-01,   6.32513762e-02,   6.16954684e-01,\n",
       "          4.28950787e-01,   7.72707537e-02,   9.66559470e-01,\n",
       "          5.70571840e-01,   2.16750935e-01,   5.43367341e-02,\n",
       "          9.48072970e-01,   5.45669258e-01,   4.30766307e-02,\n",
       "          1.52757630e-01,   8.88171017e-01,   3.52883667e-01,\n",
       "          5.65321207e-01,   6.97170734e-01,   8.22241783e-01,\n",
       "          5.91538548e-01,   4.81814891e-01,   3.47940356e-01,\n",
       "          2.51412094e-01,   2.13116363e-01,   8.44104171e-01,\n",
       "          8.76729906e-01,   3.40956062e-01,   4.16361809e-01,\n",
       "          7.30357170e-01,   5.23924768e-01,   9.55123723e-01,\n",
       "          1.30184442e-01,   8.08287740e-01,   3.97674173e-01,\n",
       "          8.17467332e-01,   5.68058908e-01,   1.21390969e-01,\n",
       "          8.29829514e-01,   6.57594800e-02,   4.28433925e-01,\n",
       "          1.11634590e-01,   7.76634276e-01,   5.64366877e-01,\n",
       "          3.97321254e-01,   9.79746759e-01,   4.69385892e-01,\n",
       "          1.12195514e-01,   4.52415198e-01,   9.23248008e-02,\n",
       "          2.34272778e-01,   1.48399815e-01,   3.18850666e-01,\n",
       "          4.22192603e-01,   9.72049057e-01,   2.72017241e-01,\n",
       "          8.65100548e-02,   3.84402312e-02,   6.32086515e-01,\n",
       "          8.52136731e-01,   1.42544508e-01,   2.09434599e-01,\n",
       "          5.10085166e-01,   4.33619320e-01,   1.92645431e-01,\n",
       "          4.34834689e-01,   2.51569618e-02,   5.97839773e-01,\n",
       "          5.12261391e-01,   8.43292177e-01,   4.44409966e-01,\n",
       "          3.48723531e-02,   6.71812177e-01,   1.16511270e-01,\n",
       "          2.46536270e-01,   7.13300332e-02,   9.65988398e-01,\n",
       "          3.80111367e-01,   4.29302156e-01,   3.73333305e-01,\n",
       "          6.52703822e-01,   1.47541687e-01,   6.90406621e-01,\n",
       "          9.37331617e-01,   9.49047208e-01,   7.28827119e-01,\n",
       "          6.70387506e-01,   7.54151642e-01,   1.82934210e-01,\n",
       "          1.45404175e-01,   6.50239170e-01,   9.61814880e-01,\n",
       "          8.12697351e-01,   8.34854722e-01,   8.40625286e-01,\n",
       "          1.58546835e-01,   2.65901685e-01,   6.03048205e-01,\n",
       "          1.38010383e-01,   3.12141538e-01,   8.84568036e-01,\n",
       "          9.22178745e-01,   7.83852220e-01,   7.69198000e-01,\n",
       "          2.97964871e-01,   5.40824711e-01,   5.45677423e-01,\n",
       "          2.68264264e-01,   8.62452805e-01,   7.33030736e-01,\n",
       "          9.71767783e-01,   7.33151240e-03,   4.20206457e-01,\n",
       "          8.96090567e-01,   9.98427272e-01,   2.09207132e-01,\n",
       "          3.69563460e-01,   8.41323495e-01,   2.18722194e-01,\n",
       "          4.87886637e-01,   2.11642414e-01,   8.84604037e-01,\n",
       "          5.65253794e-01,   4.88065094e-01,   1.29604355e-01,\n",
       "          4.94510561e-01,   7.27593124e-01,   2.09420145e-01,\n",
       "          9.71259356e-01,   2.62188137e-01,   9.33394790e-01,\n",
       "          6.23451293e-01,   1.72087014e-01,   4.55180734e-01,\n",
       "          6.15753710e-01,   9.08848405e-01,   5.34199417e-01,\n",
       "          5.54992318e-01,   7.25049317e-01,   7.03098893e-01,\n",
       "          7.09038615e-01,   2.05194950e-01,   5.88885427e-01,\n",
       "          2.64476299e-01,   6.64568841e-01,   4.16973352e-01,\n",
       "          4.18329298e-01,   2.61238720e-02,   8.60634148e-01,\n",
       "          7.09027946e-01]], dtype=float32)"
      ]
     },
     "execution_count": 17,
     "metadata": {},
     "output_type": "execute_result"
    }
   ],
   "source": [
    "mya = nd.random.uniform(low=0, high=1, shape=(1,1000), )\n",
    "mya = mya.asnumpy()\n",
    "mya"
   ]
  },
  {
   "cell_type": "code",
   "execution_count": 9,
   "metadata": {},
   "outputs": [],
   "source": [
    "import matplotlib.pyplot as plt\n",
    "def f(x):\n",
    "    return 3*x * 2 + 5"
   ]
  },
  {
   "cell_type": "code",
   "execution_count": 18,
   "metadata": {},
   "outputs": [
    {
     "data": {
      "image/png": "[encoded data removed]",
      "text/plain": [
       "<Figure size 432x288 with 1 Axes>"
      ]
     },
     "metadata": {},
     "output_type": "display_data"
    }
   ],
   "source": [
    "plt.scatter(mya, f(mya))\n",
    "plt.show()"
   ]
  },
  {
   "cell_type": "code",
   "execution_count": null,
   "metadata": {},
   "outputs": [],
   "source": []
  }
 ],
 "metadata": {
  "kernelspec": {
   "display_name": "conda_mxnet_p36",
   "language": "python",
   "name": "conda_mxnet_p36"
  },
  "language_info": {
   "codemirror_mode": {
    "name": "ipython",
    "version": 3
   },
   "file_extension": ".py",
   "mimetype": "text/x-python",
   "name": "python",
   "nbconvert_exporter": "python",
   "pygments_lexer": "ipython3",
   "version": "3.6.5"
  }
 },
 "nbformat": 4,
 "nbformat_minor": 2
}
